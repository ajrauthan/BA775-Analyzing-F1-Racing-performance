{
  "cells": [
    {
      "cell_type": "markdown",
      "metadata": {
        "id": "view-in-github",
        "colab_type": "text"
      },
      "source": [
        "<a href=\"https://colab.research.google.com/github/ajrauthan/BA775-Analyzing-F1-Racing-performance/blob/main/BA820_Team_Project_Market%20Basket%20Analysis(Alternative%20Approach).ipynb\" target=\"_parent\"><img src=\"https://colab.research.google.com/assets/colab-badge.svg\" alt=\"Open In Colab\"/></a>"
      ]
    },
    {
      "cell_type": "markdown",
      "metadata": {
        "id": "1QLA-2VL9xak"
      },
      "source": [
        "##Importing libraries and loading the dataset"
      ]
    },
    {
      "cell_type": "code",
      "execution_count": null,
      "metadata": {
        "id": "1-21-YDV6_ui"
      },
      "outputs": [],
      "source": [
        "#importing necessary libraries\n",
        "\n",
        "import pandas as pd\n",
        "import numpy as np\n",
        "import seaborn as sns\n",
        "import matplotlib.pyplot as plt"
      ]
    },
    {
      "cell_type": "code",
      "execution_count": null,
      "metadata": {
        "id": "S3uUZb657KKd",
        "colab": {
          "base_uri": "https://localhost:8080/"
        },
        "outputId": "b68fced6-ccf5-4394-ac61-59bf5d23adad"
      },
      "outputs": [
        {
          "output_type": "stream",
          "name": "stdout",
          "text": [
            "(134, 2)\n",
            "(21, 2)\n",
            "(32434489, 4)\n",
            "(3421083, 7)\n",
            "(49688, 4)\n"
          ]
        }
      ],
      "source": [
        "# loading all dataframes\n",
        "\n",
        "aisles = pd.read_csv('/content/aisles.csv')\n",
        "print(aisles.shape)\n",
        "dept = pd.read_csv('/content/departments.csv')\n",
        "print(dept.shape)\n",
        "orders_prior = pd.read_csv('/content/order_products__prior.csv')\n",
        "print(orders_prior.shape)\n",
        "orders = pd.read_csv('/content/orders.csv')\n",
        "print(orders.shape)\n",
        "prod = pd.read_csv('/content/products.csv')\n",
        "print(prod.shape)"
      ]
    },
    {
      "cell_type": "code",
      "execution_count": null,
      "metadata": {
        "id": "DIvB0al78HgR"
      },
      "outputs": [],
      "source": [
        "# joining them together on common keys\n",
        "\n",
        "df1 = pd.merge(prod, aisles, how='inner', on='aisle_id')\n",
        "df2 = df1.merge(dept, how='inner', on='department_id')\n",
        "df3 = df2.merge(orders_prior, how='inner', on='product_id')\n",
        "df4 = df3.merge(orders, how='inner', on='order_id')\n",
        "\n",
        "df = df4.drop(['aisle_id','department_id','eval_set','order_number'],axis=1)\n",
        "display(df.head())\n",
        "#simplifying pnenomics and displaying the dataframe\n",
        "print(df.shape[1], df.shape[0])"
      ]
    },
    {
      "cell_type": "markdown",
      "metadata": {
        "id": "lla91x9g93lv"
      },
      "source": [
        "##Exploring the dataset"
      ]
    },
    {
      "cell_type": "code",
      "execution_count": null,
      "metadata": {
        "id": "lspIGa37-PFw"
      },
      "outputs": [],
      "source": [
        "# df.eval_set.unique()"
      ]
    },
    {
      "cell_type": "code",
      "execution_count": null,
      "metadata": {
        "id": "LivcAjy795n4"
      },
      "outputs": [],
      "source": [
        "# df = df.drop('eval_set', axis=1)"
      ]
    },
    {
      "cell_type": "markdown",
      "metadata": {
        "id": "QR0UxEkL-FmT"
      },
      "source": [
        "Dropping the eval_set column since it holds no relevance and is merely a label for orders with only one label present."
      ]
    },
    {
      "cell_type": "code",
      "execution_count": null,
      "metadata": {
        "id": "sI4nL72x-Cq7"
      },
      "outputs": [],
      "source": [
        "df.isna().sum()"
      ]
    },
    {
      "cell_type": "markdown",
      "metadata": {
        "id": "-gHqZEodwUs3"
      },
      "source": [
        "Null values are only observed in the 'days_since_prior_order' column. We shall explore this further now."
      ]
    },
    {
      "cell_type": "code",
      "execution_count": null,
      "metadata": {
        "id": "tvtc1VDRvv0_"
      },
      "outputs": [],
      "source": [
        "df[df.days_since_prior_order.isnull()]"
      ]
    },
    {
      "cell_type": "markdown",
      "metadata": {
        "id": "mIWtmwbLyT8Y"
      },
      "source": [
        "These null values might be suggesting that no prior purchase of the product was made by the customer. We can impute it with an arbitrary float value instead so that it is in line with the datatype of the column and holds value."
      ]
    },
    {
      "cell_type": "code",
      "execution_count": null,
      "metadata": {
        "id": "mlM76sYEzb56"
      },
      "outputs": [],
      "source": [
        "# imputing a value to null values of days_since_prior_order so that those rows can be used for meaningful analysis\n",
        "\n",
        "df['days_since_prior_order'].fillna(9999.0, inplace=True) # here 9999 is our arbitrary number\n",
        "df['days_since_prior_order'].isna().sum()"
      ]
    },
    {
      "cell_type": "code",
      "execution_count": null,
      "metadata": {
        "id": "m83qEcQH-gVp"
      },
      "outputs": [],
      "source": [
        "df.info()"
      ]
    },
    {
      "cell_type": "markdown",
      "metadata": {
        "id": "dqQsxWDc-9Kt"
      },
      "source": [
        "The data types seem relevant to their respective columns."
      ]
    },
    {
      "cell_type": "code",
      "execution_count": null,
      "metadata": {
        "id": "vw5hNUbg-u65"
      },
      "outputs": [],
      "source": [
        "df.describe()"
      ]
    },
    {
      "cell_type": "code",
      "execution_count": null,
      "metadata": {
        "id": "vh_GG7tK_Emw"
      },
      "outputs": [],
      "source": [
        "df.describe(include='object')"
      ]
    },
    {
      "cell_type": "markdown",
      "metadata": {
        "id": "Ai1MhdaI_fKf"
      },
      "source": [
        "Having a look at the summary statistics gives us a clearer picture of the dataset to perform further analysis."
      ]
    },
    {
      "cell_type": "code",
      "execution_count": null,
      "metadata": {
        "id": "HjKrOEsXvD5g"
      },
      "outputs": [],
      "source": [
        "# converting day of the week (dow) of order from numerical to weekday name\n",
        "\n",
        "# Define a mapping dictionary\n",
        "dow_mapping = {\n",
        "    0: 'Sunday',\n",
        "    1: 'Monday',\n",
        "    2: 'Tuesday',\n",
        "    3: 'Wednesday',\n",
        "    4: 'Thursday',\n",
        "    5: 'Friday',\n",
        "    6: 'Saturday'\n",
        "}\n",
        "\n",
        "# Use the map function to apply the mapping\n",
        "df['order_dow'] = df['order_dow'].map(dow_mapping)\n",
        "df"
      ]
    },
    {
      "cell_type": "code",
      "execution_count": null,
      "metadata": {
        "id": "A6WWfp9f0Y05"
      },
      "outputs": [],
      "source": [
        "df.info()"
      ]
    },
    {
      "cell_type": "code",
      "source": [
        "df.isna().sum()"
      ],
      "metadata": {
        "id": "y3EpHkEuA1gt"
      },
      "execution_count": null,
      "outputs": []
    },
    {
      "cell_type": "markdown",
      "metadata": {
        "id": "csRGoKd-_oAa"
      },
      "source": [
        "##EDA"
      ]
    },
    {
      "cell_type": "markdown",
      "metadata": {
        "id": "FUDQJoqn06n1"
      },
      "source": [
        "Performing various exploratory data analyses to get to know the data better."
      ]
    },
    {
      "cell_type": "code",
      "execution_count": null,
      "metadata": {
        "id": "9Yh3zeg_5XQd"
      },
      "outputs": [],
      "source": [
        "# number of unique products in each aisle\n",
        "\n",
        "df.groupby('aisle').product_id.nunique()"
      ]
    },
    {
      "cell_type": "code",
      "source": [
        "# number of unique products in each departments\n",
        "\n",
        "df.groupby('department').product_id.nunique()"
      ],
      "metadata": {
        "id": "Vmb0tShK73y6"
      },
      "execution_count": null,
      "outputs": []
    },
    {
      "cell_type": "code",
      "source": [
        "# order id with the biggest order\n",
        "\n",
        "max_order = df.add_to_cart_order.max()\n",
        "df[df.add_to_cart_order==max_order].loc[:,['order_id', 'user_id']]"
      ],
      "metadata": {
        "id": "dxS-eJxA8H_Z"
      },
      "execution_count": null,
      "outputs": []
    },
    {
      "cell_type": "code",
      "source": [
        "# top customers based on purchase quantity\n",
        "\n",
        "top_cust = df.groupby('user_id').order_id.count().reset_index()\n",
        "top_cust.sort_values('order_id', ascending = False).head(10)"
      ],
      "metadata": {
        "id": "lFfeLs4s8cAJ"
      },
      "execution_count": null,
      "outputs": []
    },
    {
      "cell_type": "code",
      "source": [
        "# most popular products based on purchases\n",
        "\n",
        "top_prod = df.product_name.value_counts().reset_index()\n",
        "top_prod = top_prod.sort_values('product_name', ascending = False).head(10)\n",
        "\n",
        "sns.barplot(data=top_prod, x='index', y='product_name')\n",
        "plt.xlabel('Product Name')\n",
        "plt.ylabel('Quantity Sold')\n",
        "plt.title('Most populatr products')\n",
        "plt.xticks(rotation=90)\n",
        "plt.show()"
      ],
      "metadata": {
        "id": "I05tAERz9tht"
      },
      "execution_count": null,
      "outputs": []
    },
    {
      "cell_type": "markdown",
      "source": [
        "###Further Analysis"
      ],
      "metadata": {
        "id": "SiENzAAg_Wd6"
      }
    },
    {
      "cell_type": "code",
      "source": [
        "import matplotlib.pyplot as plt\n",
        "\n",
        "# Plotting the histogram of the order_hour_of_day\n",
        "plt.figure(figsize=(14, 7))\n",
        "plt.hist(df['order_hour_of_day'], bins=24, color='skyblue', edgecolor='black')\n",
        "plt.title('Distribution of Orders Throughout the Day')\n",
        "plt.xlabel('Hour of Day')\n",
        "plt.ylabel('Number of Orders')\n",
        "plt.xticks(range(0, 25))\n",
        "plt.grid(axis='y', alpha=0.75)\n",
        "plt.show()\n",
        "\n",
        "# histogram_path\n"
      ],
      "metadata": {
        "id": "GLwBwCbKIs8E"
      },
      "execution_count": null,
      "outputs": []
    },
    {
      "cell_type": "code",
      "source": [
        "# Calculate the count of orders per product\n",
        "top_products = df['product_name'].value_counts().head(10)\n",
        "\n",
        "# Plotting the bar chart for the top 10 most ordered products\n",
        "plt.figure(figsize=(14, 7))\n",
        "top_products.plot(kind='bar', color='lightcoral', edgecolor='black')\n",
        "plt.title('Top 10 Most Ordered Products')\n",
        "plt.xlabel('Product Name')\n",
        "plt.ylabel('Number of Orders')\n",
        "plt.xticks(rotation=45, ha='right')\n",
        "\n",
        "plt.show()"
      ],
      "metadata": {
        "id": "-qcjfhGnOGCR"
      },
      "execution_count": null,
      "outputs": []
    },
    {
      "cell_type": "code",
      "source": [
        "import matplotlib.pyplot as plt\n",
        "import seaborn as sns\n",
        "import pandas as pd\n",
        "\n",
        "# Setting the aesthetic style of the plots\n",
        "sns.set_style(\"whitegrid\")\n",
        "\n",
        "# Create a figure to host the plots\n",
        "fig, axes = plt.subplots(2, 2, figsize=(18, 12))\n",
        "\n",
        "# Plot 1: Distribution of Orders by Hour of Day\n",
        "sns.histplot(df['order_hour_of_day'], bins=24, kde=False, ax=axes[0, 0], color='skyblue')\n",
        "axes[0, 0].set_title('Distribution of Orders by Hour of Day')\n",
        "axes[0, 0].set_xlabel('Hour of Day')\n",
        "axes[0, 0].set_ylabel('Order Count')\n",
        "\n",
        "# Plot 2: Frequency of Reorders\n",
        "sns.countplot(x='reordered', data=df, ax=axes[0, 1], palette='coolwarm')\n",
        "axes[0, 1].set_title('Frequency of Reorders')\n",
        "axes[0, 1].set_xlabel('Reordered')\n",
        "axes[0, 1].set_ylabel('Count')\n",
        "axes[0, 1].set_xticklabels(['No', 'Yes'])\n",
        "\n",
        "# Plot 3: Number of Products Ordered from Each Department (Top 10)\n",
        "top_departments = df['department'].value_counts().head(10)\n",
        "sns.barplot(y=top_departments.index, x=top_departments.values, ax=axes[1, 0], palette='viridis')\n",
        "axes[1, 0].set_title('Top 10 Departments by Number of Products Ordered')\n",
        "axes[1, 0].set_xlabel('Number of Products Ordered')\n",
        "axes[1, 0].set_ylabel('Department')\n",
        "\n",
        "# Plot 4: Days Since Prior Order Distribution\n",
        "sns.histplot(df['days_since_prior_order'], bins=30, kde=True, ax=axes[1, 1], color='salmon')\n",
        "axes[1, 1].set_title('Distribution of Days Since Prior Order')\n",
        "axes[1, 1].set_xlabel('Days Since Prior Order')\n",
        "axes[1, 1].set_ylabel('Frequency')\n",
        "\n",
        "# Adjust layout\n",
        "plt.tight_layout()\n",
        "\n",
        "# Show plots\n",
        "plt.show()"
      ],
      "metadata": {
        "id": "MZnfhovhRMU-"
      },
      "execution_count": null,
      "outputs": []
    },
    {
      "cell_type": "markdown",
      "source": [
        "Market Basket Analysis"
      ],
      "metadata": {
        "id": "xIsozd7Fe8A9"
      }
    },
    {
      "cell_type": "code",
      "source": [
        "df.head()"
      ],
      "metadata": {
        "id": "eIUMxLadfCuk"
      },
      "execution_count": null,
      "outputs": []
    },
    {
      "cell_type": "code",
      "source": [
        "print(df.columns)"
      ],
      "metadata": {
        "id": "a5PJP0k1rsvx"
      },
      "execution_count": null,
      "outputs": []
    },
    {
      "cell_type": "code",
      "source": [
        "data_column = df.iloc[:, 1]\n",
        "data = list(data_column.apply(lambda x: x.split(',')))\n",
        "data"
      ],
      "metadata": {
        "id": "39AOgvOdoncf"
      },
      "execution_count": null,
      "outputs": []
    },
    {
      "cell_type": "code",
      "source": [
        "merged = df[df['product_id'].map(df['product_id'].value_counts()) > 13000]\n",
        "merged.head()"
      ],
      "metadata": {
        "id": "Im5I_cUdo1-M"
      },
      "execution_count": null,
      "outputs": []
    },
    {
      "cell_type": "code",
      "source": [
        "mbanalysis = merged.groupby(['order_id', 'product_name'])['order_id'].count().unstack().reset_index().fillna(0).set_index('order_id')\n",
        "mbanalysis.head()"
      ],
      "metadata": {
        "id": "aVm86s_dr-YU"
      },
      "execution_count": null,
      "outputs": []
    },
    {
      "cell_type": "code",
      "source": [],
      "metadata": {
        "id": "kQ5oS-50sRcm"
      },
      "execution_count": null,
      "outputs": []
    }
  ],
  "metadata": {
    "colab": {
      "provenance": [],
      "include_colab_link": true
    },
    "kernelspec": {
      "display_name": "Python 3",
      "name": "python3"
    },
    "language_info": {
      "name": "python"
    }
  },
  "nbformat": 4,
  "nbformat_minor": 0
}